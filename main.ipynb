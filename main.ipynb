{
 "cells": [
  {
   "cell_type": "markdown",
   "source": [
    "# Import"
   ],
   "metadata": {}
  },
  {
   "cell_type": "code",
   "execution_count": null,
   "source": [
    "import matplotlin.pyplot as plt\r\n",
    "import numpy as np\r\n",
    "\r\n",
    "import tensorflow as tf\r\n",
    "import tensorflow_datasets as tsdf\r\n",
    "\r\n",
    "from tensorflow import keras"
   ],
   "outputs": [],
   "metadata": {}
  }
 ],
 "metadata": {
  "orig_nbformat": 4,
  "language_info": {
   "name": "python"
  }
 },
 "nbformat": 4,
 "nbformat_minor": 2
}